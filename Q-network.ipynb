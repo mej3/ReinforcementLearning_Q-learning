{
 "cells": [
  {
   "cell_type": "markdown",
   "metadata": {},
   "source": [
    "## Q-Network for optimal path finding"
   ]
  },
  {
   "cell_type": "markdown",
   "metadata": {},
   "source": [
    "The main objective of Q-training is to develope a policy **π**  for navigating the maze successfully."
   ]
  },
  {
   "cell_type": "code",
   "execution_count": 1,
   "metadata": {
    "collapsed": false
   },
   "outputs": [
    {
     "name": "stderr",
     "output_type": "stream",
     "text": [
      "Using TensorFlow backend.\n"
     ]
    }
   ],
   "source": [
    "from __future__ import print_function\n",
    "import os, sys, time, datetime, json, random, csv\n",
    "import numpy as np\n",
    "import pandas as pd\n",
    "#from numpy import genfromtxt\n",
    "from keras.models import Sequential\n",
    "from keras.layers.core import Dense, Activation\n",
    "from keras.optimizers import SGD , Adam, RMSprop\n",
    "from keras.layers.advanced_activations import ELU\n",
    "import matplotlib.pyplot as plt\n",
    "%matplotlib inline"
   ]
  },
  {
   "cell_type": "markdown",
   "metadata": {},
   "source": [
    "#### Loading of input data, setting of hyperparameters and other variables for Q-learning"
   ]
  },
  {
   "cell_type": "code",
   "execution_count": 2,
   "metadata": {
    "collapsed": false
   },
   "outputs": [],
   "source": [
    "wd = 'C:\\\\Users\\\\homeuser\\\\Documents\\\\MEJ\\\\City MSc\\\\09DISSERTATION\\\\Report\\\\PicturesRawData\\\\RL\\\\'\n",
    "visited_mark = 0.8  # Cells visited by the agent will be painted by gray 0.8\n",
    "agent_mark = 0.5      # The current agent cell will be painteg by gray 0.5\n",
    "LEFT = 0\n",
    "UP = 1\n",
    "RIGHT = 2\n",
    "DOWN = 3\n",
    "classes = np.arange(6)\n",
    "actions_dict = {\n",
    "    LEFT: 'left',\n",
    "    UP: 'up',\n",
    "    RIGHT: 'right',\n",
    "    DOWN: 'down',\n",
    "}# Actions dictionary\n",
    "num_actions = len(actions_dict)\n",
    "epsilon = 0.9# Exploration factor for Q-learning\n",
    "alpha = 1#Learning rate for Q-learning\n",
    "gamma = 0.9#Discount rate for Q-learning\n",
    "targetCell = (5,5)\n",
    "decrementRate = 0.1\n",
    "lr = 0.01#Learning rate for neural network\n",
    "envFileName = 'Environment.csv'\n",
    "rewardFileName = 'RewardComputation.csv'\n",
    "environment = pd.read_csv(wd+envFileName)\n",
    "rewardMatrix = pd.read_csv(wd+rewardFileName)\n",
    "env = np.array(environment)"
   ]
  },
  {
   "cell_type": "markdown",
   "metadata": {},
   "source": [
    "**Reinforcement Learning **"
   ]
  },
  {
   "cell_type": "markdown",
   "metadata": {},
   "source": [
    "### Qmaze class"
   ]
  },
  {
   "cell_type": "code",
   "execution_count": 3,
   "metadata": {
    "collapsed": false
   },
   "outputs": [],
   "source": [
    "# Environment is a 2d Numpy array; agent = (row, col) initial agent position (defaults to (0,0))\n",
    "class Qmaze(object):\n",
    "    def __init__(self, maze, agent=(0,0)):\n",
    "        self._maze = np.array(maze)\n",
    "        nrows, ncols = self._maze.shape\n",
    "        self.target = (nrows-1, ncols-1)   # target cell\n",
    "        #self.free_cells = [(r,c) for r in range(nrows) for c in range(ncols) if self._maze[r,c] == 1.0]\n",
    "        self.free_cells = [(r,c) for r in range(nrows) for c in range(ncols) if self._maze[r,c] in classes]\n",
    "        self.free_cells.remove(self.target)\n",
    "        self.reset(agent)\n",
    "\n",
    "    def reset(self, agent):\n",
    "        self.agent = agent\n",
    "        self.maze = np.copy(self._maze)\n",
    "        nrows, ncols = self.maze.shape\n",
    "        row, col = agent\n",
    "        self.maze[row, col] = agent_mark\n",
    "        self.state = (row, col, 'start')\n",
    "        self.min_reward = -0.5 * self.maze.size\n",
    "        self.total_reward = 0\n",
    "        self.visited = set()\n",
    "\n",
    "    def update_state(self, action):\n",
    "        nrows, ncols = self.maze.shape\n",
    "        nrow, ncol, nmode = agent_row, agent_col, mode = self.state\n",
    "\n",
    "        #if self.maze[agent_row, agent_col] > 0.0:\n",
    "        self.visited.add((agent_row, agent_col))  # mark visited cell\n",
    "\n",
    "        valid_actions = self.valid_actions()\n",
    "                \n",
    "        if not valid_actions:\n",
    "            nmode = 'blocked'\n",
    "        elif action in valid_actions:\n",
    "            nmode = 'valid'\n",
    "            if action == LEFT:\n",
    "                ncol -= 1\n",
    "            elif action == UP:\n",
    "                nrow -= 1\n",
    "            if action == RIGHT:\n",
    "                ncol += 1\n",
    "            elif action == DOWN:\n",
    "                nrow += 1\n",
    "        else:                  # invalid action, no change in agent position\n",
    "            mode = 'invalid'\n",
    "\n",
    "        self.state = (nrow, ncol, nmode)# new state\n",
    "\n",
    "        currClass = self.maze[agent_row, agent_col]  \n",
    "        nextClass = self.maze[nrow, ncol]      \n",
    "        return currClass,nextClass\n",
    "\n",
    "    def class_reward(self, sourceId, targetId):\n",
    "        temp = rewardMatrix[rewardMatrix['SourceID'] == sourceId]\n",
    "        reward = temp[temp['TargetID']==targetId]['Cost'].iloc[0]\n",
    "        return reward            \n",
    "\n",
    "    def get_reward(self):\n",
    "        agent_row, agent_col, mode = self.state\n",
    "        nrows, ncols = self.maze.shape\n",
    "        if agent_row == targetCell[0] and agent_col == targetCell[1]:\n",
    "            return 1.0\n",
    "        #if mode == 'blocked':\n",
    "        #    return self.min_reward - 1\n",
    "        if (agent_row, agent_col) in self.visited:\n",
    "            return -0.25\n",
    "        #if mode == 'invalid':\n",
    "        #    return -0.75\n",
    "        if mode == 'valid':\n",
    "            return -0.04\n",
    "\n",
    "    def act(self, action):\n",
    "        currentClass, targetClass = self.update_state(action)\n",
    "        reward = float(self.get_reward()+ self.class_reward(currentClass, targetClass))\n",
    "        self.total_reward = self.total_reward + alpha*reward\n",
    "        status = self.game_status()\n",
    "        envstate = self.observe()\n",
    "        return envstate, reward, status\n",
    "\n",
    "    def observe(self):\n",
    "        canvas = self.draw_env()\n",
    "        envstate = canvas.reshape((1, -1))\n",
    "        return envstate\n",
    "\n",
    "    def draw_env(self):\n",
    "        canvas = np.copy(self.maze)\n",
    "        nrows, ncols = self.maze.shape\n",
    "        # clear all visual marks\n",
    "        for r in range(nrows):\n",
    "            for c in range(ncols):\n",
    "                if canvas[r,c] > 0.0:\n",
    "                    canvas[r,c] = 1.0\n",
    "        # draw the agent\n",
    "        row, col, valid = self.state\n",
    "        canvas[row, col] = agent_mark\n",
    "        return canvas\n",
    "\n",
    "    def game_status(self):\n",
    "        agent_row, agent_col, mode = self.state\n",
    "        nrows, ncols = self.maze.shape\n",
    "        r,c=targetCell\n",
    "        if agent_row == r and agent_col == c:\n",
    "            return 'win'\n",
    "\n",
    "    def valid_actions(self, cell=None):\n",
    "        if cell is None:\n",
    "            row, col, mode = self.state\n",
    "        else:\n",
    "            row, col = cell\n",
    "        actions = [0, 1, 2, 3]\n",
    "        nrows, ncols = self.maze.shape\n",
    "        if row == 0:\n",
    "            actions.remove(1)\n",
    "        elif row == nrows-1:\n",
    "            actions.remove(3)\n",
    "\n",
    "        if col == 0:\n",
    "            actions.remove(0)\n",
    "        elif col == ncols-1:\n",
    "            actions.remove(2)\n",
    "\n",
    "        if row>0 and self.maze[row-1,col] == 0.0:\n",
    "            actions.remove(1)\n",
    "        if row<nrows-1 and self.maze[row+1,col] == 0.0:\n",
    "            actions.remove(3)\n",
    "\n",
    "        if col>0 and self.maze[row,col-1] == 0.0:\n",
    "            actions.remove(0)\n",
    "        if col<ncols-1 and self.maze[row,col+1] == 0.0:\n",
    "            actions.remove(2)\n",
    "\n",
    "        return actions"
   ]
  },
  {
   "cell_type": "code",
   "execution_count": 4,
   "metadata": {
    "collapsed": true
   },
   "outputs": [],
   "source": [
    "def show(qmaze):\n",
    "    plt.grid('on')\n",
    "    nrows, ncols = qmaze.maze.shape\n",
    "    ax = plt.gca()\n",
    "    ax.set_xticks(np.arange(0.5, nrows, 1))\n",
    "    ax.set_yticks(np.arange(0.5, ncols, 1))\n",
    "    ax.set_xticklabels([])\n",
    "    ax.set_yticklabels([])\n",
    "    canvas = np.copy(qmaze.maze)\n",
    "    for row,col in qmaze.visited:\n",
    "        canvas[row,col] = 0.6\n",
    "    agent_row, agent_col, _ = qmaze.state\n",
    "    canvas[agent_row, agent_col] = 0.3   # start cell\n",
    "    canvas[nrows-1, ncols-1] = 0.9 # target cell\n",
    "    img = plt.imshow(canvas, interpolation='none', cmap='jet')    \n",
    "    return img"
   ]
  },
  {
   "cell_type": "markdown",
   "metadata": {},
   "source": [
    "#### Display of environment"
   ]
  },
  {
   "cell_type": "code",
   "execution_count": 5,
   "metadata": {
    "collapsed": false
   },
   "outputs": [
    {
     "name": "stdout",
     "output_type": "stream",
     "text": [
      "reward= 2.96\n"
     ]
    },
    {
     "data": {
      "text/plain": [
       "<matplotlib.image.AxesImage at 0x21d11a64ef0>"
      ]
     },
     "execution_count": 5,
     "metadata": {},
     "output_type": "execute_result"
    },
    {
     "data": {
      "image/png": "[encoded data removed]",
      "text/plain": [
       "<matplotlib.figure.Figure at 0x21d0f99b358>"
      ]
     },
     "metadata": {},
     "output_type": "display_data"
    }
   ],
   "source": [
    "qmaze = Qmaze(env)\n",
    "canvas, reward, game_over = qmaze.act(DOWN)\n",
    "print(\"reward=\", reward)\n",
    "show(qmaze)"
   ]
  },
  {
   "cell_type": "code",
   "execution_count": 6,
   "metadata": {
    "collapsed": false
   },
   "outputs": [
    {
     "data": {
      "text/plain": [
       "<matplotlib.image.AxesImage at 0x21d11b06c18>"
      ]
     },
     "execution_count": 6,
     "metadata": {},
     "output_type": "execute_result"
    },
    {
     "data": {
      "image/png": "[encoded data removed]",
      "text/plain": [
       "<matplotlib.figure.Figure at 0x21d11a44dd8>"
      ]
     },
     "metadata": {},
     "output_type": "display_data"
    }
   ],
   "source": [
    "qmaze.act(DOWN)  # move down\n",
    "qmaze.act(RIGHT)  # move right\n",
    "qmaze.act(RIGHT)  # move right\n",
    "qmaze.act(RIGHT)  # move right\n",
    "qmaze.act(UP)  # move up\n",
    "show(qmaze)"
   ]
  },
  {
   "cell_type": "markdown",
   "metadata": {},
   "source": [
    "Function that simulates state transitions"
   ]
  },
  {
   "cell_type": "code",
   "execution_count": 7,
   "metadata": {
    "collapsed": true
   },
   "outputs": [],
   "source": [
    "def play_game(model, qmaze, agent_cell):\n",
    "    qmaze.reset(agent_cell)\n",
    "    envstate = qmaze.observe()\n",
    "    while True:\n",
    "        prev_envstate = envstate\n",
    "        # get next action\n",
    "        q = model.predict(prev_envstate)\n",
    "        action = np.argmax(q[0])\n",
    "\n",
    "        # apply action, get rewards and new state\n",
    "        envstate, reward, game_status = qmaze.act(action)\n",
    "        if game_status == 'win':\n",
    "            return True\n",
    "        elif game_status == 'lose':\n",
    "            return False"
   ]
  },
  {
   "cell_type": "markdown",
   "metadata": {},
   "source": [
    "### Bellman Equation"
   ]
  },
  {
   "cell_type": "code",
   "execution_count": 8,
   "metadata": {
    "collapsed": false
   },
   "outputs": [],
   "source": [
    "class Experience(object):\n",
    "    def __init__(self, model, max_memory=100, discount=0.95):\n",
    "        self.model = model\n",
    "        self.max_memory = max_memory\n",
    "        self.discount = discount\n",
    "        self.memory = list()\n",
    "        self.num_actions = model.output_shape[-1]\n",
    "\n",
    "    def remember(self, episode):\n",
    "        self.memory.append(episode)\n",
    "        if len(self.memory) > self.max_memory:\n",
    "            del self.memory[0]\n",
    "\n",
    "    def predict(self, envstate):\n",
    "        return self.model.predict(envstate)[0]\n",
    "\n",
    "    def get_data(self, alpha, data_size=10):\n",
    "        env_size = self.memory[0][0].shape[1]   # envstate 1d size (1st element of episode)\n",
    "        mem_size = len(self.memory)\n",
    "        data_size = min(mem_size, data_size)\n",
    "        inputs = np.zeros((data_size, env_size))\n",
    "        targets = np.zeros((data_size, self.num_actions))\n",
    "        for i, j in enumerate(np.random.choice(range(mem_size), data_size, replace=False)):\n",
    "            envstate, action, reward, envstate_next, game_over = self.memory[j]\n",
    "            inputs[i] = envstate\n",
    "            # There should be no target values for actions not taken.\n",
    "            targets[i] = self.predict(envstate)\n",
    "            # Q_sa = derived policy = max quality env/action = max_a' Q(s', a')\n",
    "            Q_sa = np.max(self.predict(envstate_next))\n",
    "            if game_over:\n",
    "                targets[i, action] = reward\n",
    "            else:\n",
    "                # reward + gamma * max_a' Q(s', a')\n",
    "                targets[i, action] = alpha * ((reward + self.discount * Q_sa)-reward)\n",
    "        return inputs, targets"
   ]
  },
  {
   "cell_type": "markdown",
   "metadata": {},
   "source": [
    "### Q-Learning"
   ]
  },
  {
   "cell_type": "code",
   "execution_count": 9,
   "metadata": {
    "collapsed": false
   },
   "outputs": [],
   "source": [
    "def qtrain(model, maze, n_epoch=10, max_memory=100, data_size=32, **opt):\n",
    "    global epsilon\n",
    "    global alpha\n",
    "    #weights_file = opt.get('weights_file', \"\")#Use pre-trained model by providing h5 file name to weights_file option\n",
    "    name = opt.get('name', 'model')\n",
    "    start_time = datetime.datetime.now()\n",
    "    #if weights_file:\n",
    "        #print(\"loading weights from file: %s\" % (weights_file,))\n",
    "        #model.load_weights(weights_file)\n",
    "\n",
    "    # Construct environment/game from numpy array: maze (see above)\n",
    "    qmaze = Qmaze(maze)\n",
    "\n",
    "    # Initialize experience replay object\n",
    "    experience = Experience(model, max_memory=max_memory, discount=gamma)\n",
    "\n",
    "    lossForAllEpochs = []\n",
    "    rewardForAllEpochs = []\n",
    "\n",
    "    for epoch in range(1,n_epoch+1):\n",
    "        print(\"Epoch ==> \",epoch)\n",
    "        lossOverEpisodes = []\n",
    "        rewardOverEpisodes = []\n",
    "        agent_cell = random.choice(qmaze.free_cells)\n",
    "        qmaze.reset(agent_cell)\n",
    "        game_over = False\n",
    "        if (epoch%5 == 0):\n",
    "            alpha = alpha - (decrementRate*alpha)\n",
    "            epsilon = epsilon - (decrementRate*epsilon)\n",
    "\n",
    "        # get initial envstate (1d flattened canvas)\n",
    "        envstate = qmaze.observe()\n",
    "\n",
    "        n_episodes = 0\n",
    "        while not game_over:\n",
    "            #currentRow, currentCol, mode = self.state\n",
    "            valid_actions = qmaze.valid_actions()\n",
    "            if not valid_actions: break\n",
    "            prev_envstate = envstate\n",
    "            # Get next action\n",
    "            if np.random.rand() < epsilon:\n",
    "                action = random.choice(valid_actions)\n",
    "            else:\n",
    "                action = np.argmax(experience.predict(prev_envstate))\n",
    "\n",
    "            # Apply action, get reward and new envstate\n",
    "            envstate, reward, game_status = qmaze.act(action)\n",
    "            if game_status == 'win':\n",
    "                #win_history.append(1)\n",
    "                game_over = True\n",
    "            else:\n",
    "                #win_history.append(0)#Newly added\n",
    "                game_over = False\n",
    "\n",
    "            # Store episode (experience)\n",
    "            episode = [prev_envstate, action, reward, envstate, game_over]\n",
    "            experience.remember(episode)\n",
    "            n_episodes += 1\n",
    "\n",
    "            # Train neural network model\n",
    "            inputs, targets = experience.get_data(alpha, data_size=data_size)\n",
    "            h = model.fit(\n",
    "                inputs,\n",
    "                targets,\n",
    "                epochs=8,\n",
    "                batch_size=16,\n",
    "                verbose=0,\n",
    "            )\n",
    "            loss = model.evaluate(inputs, targets, verbose=0)\n",
    "            lossOverEpisodes.append(loss)\n",
    "            rewardOverEpisodes.append(reward)\n",
    "   \n",
    "        dt = datetime.datetime.now() - start_time\n",
    "        t = format_time(dt.total_seconds())\n",
    "        template = \"Epoch: {:03d}/{:d} | LR: {:.4f} | Exploration rate: {:.4f} | Final reward: {:.4f} | Final loss: {:.4f} | Training time: {}\"\n",
    "        print(template.format(epoch, n_epoch-1, alpha, epsilon, reward, loss, t))\n",
    "\n",
    "        if game_status == 'win':\n",
    "            print(\"Reached target in: [\", n_episodes, \"] episodes in epoch: [\", epoch,\"]\")\n",
    "\n",
    "    lossForAllEpochs.append(lossOverEpisodes)\n",
    "    rewardForAllEpochs.append(rewardOverEpisodes)\n",
    "\n",
    "    h5file = name + \".h5\"# Save trained model weights and architecture\n",
    "    json_file = name + \".json\"\n",
    "    model.save_weights(h5file, overwrite=True)\n",
    "    with open(json_file, \"w\") as outfile:\n",
    "        json.dump(model.to_json(), outfile)\n",
    "    end_time = datetime.datetime.now()\n",
    "    dt = datetime.datetime.now() - start_time\n",
    "    seconds = dt.total_seconds()\n",
    "    t = format_time(seconds)\n",
    "    print('files: %s, %s' % (h5file, json_file))\n",
    "    print(\"n_epoch: %d, max_mem: %d, data: %d, time: %s\" % (epoch, max_memory, data_size, t))\n",
    "\n",
    "    return lossForAllEpochs\n",
    "\n",
    "def format_time(seconds):#Time formatting\n",
    "    if seconds < 400:\n",
    "        s = float(seconds)\n",
    "        return \"%.1f sec\" % (s,)\n",
    "    elif seconds < 4000:\n",
    "        m = seconds / 60.0\n",
    "        return \"%.2f min\" % (m,)\n",
    "    else:\n",
    "        h = seconds / 3600.0\n",
    "        return \"%.2f hr\" % (h,)"
   ]
  },
  {
   "cell_type": "markdown",
   "metadata": {},
   "source": [
    "### ANN approach\n",
    "    1) Activation function is ELU (Exponential relu)\n",
    "    2) Optimizer is Adam\n",
    "    3) Loss function is MSE (Mean Squared Error)"
   ]
  },
  {
   "cell_type": "code",
   "execution_count": 11,
   "metadata": {
    "collapsed": true
   },
   "outputs": [],
   "source": [
    "def build_model(maze):\n",
    "    model = Sequential()\n",
    "    model.add(Dense(maze.size, input_shape=(maze.size,)))\n",
    "    model.add(ELU(lr))\n",
    "    model.add(Dense(maze.size))\n",
    "    model.add(ELU(lr))\n",
    "    model.add(Dense(num_actions))\n",
    "    model.compile(optimizer='adam', loss='mse')\n",
    "    return model"
   ]
  },
  {
   "cell_type": "markdown",
   "metadata": {},
   "source": [
    "#### Q-test"
   ]
  },
  {
   "cell_type": "code",
   "execution_count": null,
   "metadata": {
    "collapsed": false
   },
   "outputs": [
    {
     "data": {
      "text/plain": [
       "<matplotlib.image.AxesImage at 0x21d11b37048>"
      ]
     },
     "execution_count": 12,
     "metadata": {},
     "output_type": "execute_result"
    },
    {
     "data": {
      "image/png": "[encoded data removed]",
      "text/plain": [
       "<matplotlib.figure.Figure at 0x21d11a60c88>"
      ]
     },
     "metadata": {},
     "output_type": "display_data"
    }
   ],
   "source": [
    "qmaze = Qmaze(env)\n",
    "show(qmaze)"
   ]
  },
  {
   "cell_type": "markdown",
   "metadata": {},
   "source": [
    "#### Q-network training"
   ]
  },
  {
   "cell_type": "code",
   "execution_count": null,
   "metadata": {
    "collapsed": false,
    "scrolled": true
   },
   "outputs": [
    {
     "name": "stdout",
     "output_type": "stream",
     "text": [
      "Epoch ==>  1\n",
      "Epoch: 001/7 | LR: 1.0000 | Exploration rate: 0.9000 | Final reward: 4.0000 | Final loss: 0.7557 | Training time: 0.7 sec\n",
      "Reached target in: [ 1 ] episodes in epoch: [ 1 ]\n",
      "Epoch ==>  2\n",
      "Epoch: 002/7 | LR: 1.0000 | Exploration rate: 0.9000 | Final reward: 3.5000 | Final loss: 0.0001 | Training time: 17.4 sec\n",
      "Reached target in: [ 402 ] episodes in epoch: [ 2 ]\n",
      "Epoch ==>  3\n",
      "Epoch: 003/7 | LR: 1.0000 | Exploration rate: 0.9000 | Final reward: 3.5000 | Final loss: 0.0523 | Training time: 60.9 sec\n",
      "Reached target in: [ 1019 ] episodes in epoch: [ 3 ]\n",
      "Epoch ==>  4\n",
      "Epoch: 004/7 | LR: 1.0000 | Exploration rate: 0.9000 | Final reward: 3.5000 | Final loss: 0.0005 | Training time: 96.3 sec\n",
      "Reached target in: [ 797 ] episodes in epoch: [ 4 ]\n",
      "Epoch ==>  5\n"
     ]
    }
   ],
   "source": [
    "model = build_model(env)\n",
    "trainingLoss = qtrain(model, env, 8, max_memory=1*env.size, data_size=32)"
   ]
  }
 ],
 "metadata": {
  "anaconda-cloud": {},
  "kernelspec": {
   "display_name": "Python [conda env:tensorflow]",
   "language": "python",
   "name": "conda-env-tensorflow-py"
  },
  "language_info": {
   "codemirror_mode": {
    "name": "ipython",
    "version": 3
   },
   "file_extension": ".py",
   "mimetype": "text/x-python",
   "name": "python",
   "nbconvert_exporter": "python",
   "pygments_lexer": "ipython3",
   "version": "3.5.4"
  }
 },
 "nbformat": 4,
 "nbformat_minor": 1
}
